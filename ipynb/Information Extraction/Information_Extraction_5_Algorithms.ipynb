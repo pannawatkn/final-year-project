{
  "nbformat": 4,
  "nbformat_minor": 2,
  "metadata": {
    "colab": {
      "name": "[1] Information Extraction 5 Algorithms.ipynb",
      "provenance": [],
      "collapsed_sections": [
        "F1H6TqTyOziL"
      ],
      "toc_visible": true
    },
    "kernelspec": {
      "name": "python3",
      "display_name": "Python 3"
    },
    "accelerator": "GPU"
  },
  "cells": [
    {
      "cell_type": "markdown",
      "source": [
        "# Setup"
      ],
      "metadata": {
        "id": "VZSleafPF-Hc"
      }
    },
    {
      "cell_type": "code",
      "execution_count": null,
      "source": [
        "# Tweepy\r\n",
        "import tweepy\r\n",
        "\r\n",
        "# DataFrame\r\n",
        "import pandas as pd\r\n",
        "\r\n",
        "# Matplot\r\n",
        "from matplotlib import pyplot as plt\r\n",
        "\r\n",
        "# Utility\r\n",
        "import numpy as np\r\n",
        "from numpy import array       \r\n",
        "from numpy import asarray\r\n",
        "from numpy import zeros\r\n",
        "import math\r\n",
        "import re\r\n",
        "import string\r\n",
        "import pickle\r\n",
        "import random\r\n",
        "import csv\r\n",
        "from IPython.display import display\r\n",
        "from IPython.display import SVG\r\n",
        "\r\n",
        "# Scikit-learn\r\n",
        "from sklearn.model_selection import train_test_split\r\n",
        "from sklearn.feature_extraction import DictVectorizer\r\n",
        "from sklearn import metrics\r\n",
        "from sklearn.metrics import accuracy_score, classification_report, f1_score\r\n",
        "# Scikit-learn algorithms\r\n",
        "from sklearn.naive_bayes import BernoulliNB\r\n",
        "from sklearn.neighbors import KNeighborsClassifier\r\n",
        "from sklearn.tree import DecisionTreeClassifier\r\n",
        "from sklearn.svm import SVC\r\n",
        "from sklearn.ensemble import RandomForestClassifier\r\n",
        "\r\n",
        "# nltk\r\n",
        "import nltk\r\n",
        "from nltk.corpus import stopwords\r\n",
        "from nltk.tokenize import TweetTokenizer\r\n",
        "from nltk.tag import pos_tag\r\n",
        "\r\n",
        "nltk.download('stopwords')\r\n",
        "nltk.download('punkt')\r\n",
        "nltk.download('averaged_perceptron_tagger')"
      ],
      "outputs": [
        {
          "output_type": "stream",
          "name": "stdout",
          "text": [
            "[nltk_data] Downloading package stopwords to /root/nltk_data...\n",
            "[nltk_data]   Unzipping corpora/stopwords.zip.\n",
            "[nltk_data] Downloading package punkt to /root/nltk_data...\n",
            "[nltk_data]   Unzipping tokenizers/punkt.zip.\n",
            "[nltk_data] Downloading package averaged_perceptron_tagger to\n",
            "[nltk_data]     /root/nltk_data...\n",
            "[nltk_data]   Unzipping taggers/averaged_perceptron_tagger.zip.\n"
          ]
        },
        {
          "output_type": "execute_result",
          "data": {
            "text/plain": [
              "True"
            ]
          },
          "metadata": {
            "tags": []
          },
          "execution_count": 2
        }
      ],
      "metadata": {
        "id": "dGEf27EKEt9F",
        "colab": {
          "base_uri": "https://localhost:8080/"
        },
        "outputId": "8d3f7839-8fde-411e-efba-1d14ecdc07cb"
      }
    },
    {
      "cell_type": "markdown",
      "source": [
        "# Prepare training data"
      ],
      "metadata": {
        "id": "p5RlowdZGHfZ"
      }
    },
    {
      "cell_type": "code",
      "execution_count": null,
      "source": [
        "# Load trainlist taglist\r\n",
        "with open('train_list_(cleaned).pickle', 'rb') as handle:\r\n",
        "    train_list = pickle.load(handle)\r\n",
        "with open('tag_list_(cleaned).pickle', 'rb') as handle:\r\n",
        "    tag_list = pickle.load(handle)\r\n",
        "\r\n",
        "def get_features(index, word, sent):\r\n",
        "    prev_word = 'BOS'\r\n",
        "    next_word = 'EOS'\r\n",
        "    if len(sent) > index+1:\r\n",
        "        next_word = sent[index+1]\r\n",
        "    if index-1 > 0:\r\n",
        "        prev_word = sent[index-1]\r\n",
        "    val, tag = pos_tag([word])[0]\r\n",
        "    prev_word, prev_tag = pos_tag([prev_word])[0]\r\n",
        "    next_word, next_tag = pos_tag([next_word])[0]\r\n",
        "    dic = {\r\n",
        "        \"word\": val,\r\n",
        "        \"postag\": tag,\r\n",
        "        \"nextword\": next_word,\r\n",
        "        \"nextwordtag\": next_tag,\r\n",
        "        \"previousword\": prev_word,\r\n",
        "        \"previoustag\": prev_tag,\r\n",
        "    }\r\n",
        "    return dic\r\n",
        "\r\n",
        "def extract_features(lst):\r\n",
        "  new_list = []\r\n",
        "  for sent in lst:\r\n",
        "    for i in range(len(sent)):\r\n",
        "      new_list.append(get_features(i, sent[i] , sent))\r\n",
        "  \r\n",
        "  return new_list\r\n",
        "\r\n",
        "def extract_label(lst):\r\n",
        "  new_list = []\r\n",
        "  for sent in lst:\r\n",
        "    for word in sent:\r\n",
        "      new_list.append(word)\r\n",
        "  \r\n",
        "  return new_list\r\n",
        "\r\n",
        "# text to feature\r\n",
        "x_data = extract_features(train_list)\r\n",
        "y_data = extract_label(tag_list)"
      ],
      "outputs": [],
      "metadata": {
        "id": "OnfaNz4zGJ74"
      }
    },
    {
      "cell_type": "code",
      "execution_count": null,
      "source": [
        "x_data[0]"
      ],
      "outputs": [
        {
          "output_type": "execute_result",
          "data": {
            "text/plain": [
              "{'nextword': 'total',\n",
              " 'nextwordtag': 'JJ',\n",
              " 'postag': 'CD',\n",
              " 'previoustag': 'NN',\n",
              " 'previousword': 'BOS',\n",
              " 'word': '65'}"
            ]
          },
          "metadata": {
            "tags": []
          },
          "execution_count": 7
        }
      ],
      "metadata": {
        "id": "coHqrrsLGc4l",
        "colab": {
          "base_uri": "https://localhost:8080/"
        },
        "outputId": "42f5e192-9108-47db-f330-ca8b84ac9574"
      }
    },
    {
      "cell_type": "code",
      "execution_count": null,
      "source": [
        "# 70% training and 30% test size\r\n",
        "x_train, x_test, y_train, y_test = train_test_split(x_data, y_data, test_size=0.3, random_state=7777)\r\n",
        "\r\n",
        "# to DictVctorizer\r\n",
        "vec = DictVectorizer(sparse=False)\r\n",
        "x_train = vec.fit_transform(x_train)\r\n",
        "x_test = vec.transform(x_test)"
      ],
      "outputs": [],
      "metadata": {
        "id": "FIyvBr9FGzGu"
      }
    },
    {
      "cell_type": "code",
      "execution_count": null,
      "source": [
        "x_train[5]"
      ],
      "outputs": [
        {
          "output_type": "execute_result",
          "data": {
            "text/plain": [
              "array([0., 0., 0., ..., 0., 0., 0.])"
            ]
          },
          "metadata": {
            "tags": []
          },
          "execution_count": 9
        }
      ],
      "metadata": {
        "id": "ha6XCmx1G96a",
        "colab": {
          "base_uri": "https://localhost:8080/"
        },
        "outputId": "df3b3407-671b-44a7-a268-59afa9a7f7f5"
      }
    },
    {
      "cell_type": "code",
      "execution_count": null,
      "source": [
        "y_train[5]"
      ],
      "outputs": [
        {
          "output_type": "execute_result",
          "data": {
            "text/plain": [
              "0"
            ]
          },
          "metadata": {
            "tags": []
          },
          "execution_count": 23
        }
      ],
      "metadata": {
        "id": "ijiE8EwWAjeM",
        "colab": {
          "base_uri": "https://localhost:8080/"
        },
        "outputId": "5db95a97-83f1-42fb-d2e1-734776e04ca2"
      }
    },
    {
      "cell_type": "code",
      "execution_count": null,
      "source": [
        "pickle.dump(vec, open('dictVectorizer.pickle', 'wb'))"
      ],
      "outputs": [],
      "metadata": {
        "id": "sQ0gCbP1ZRYn"
      }
    },
    {
      "cell_type": "markdown",
      "source": [
        "# Training"
      ],
      "metadata": {
        "id": "3H2QykxWHDVl"
      }
    },
    {
      "cell_type": "markdown",
      "source": [
        "## KNN"
      ],
      "metadata": {
        "id": "vbezQ57sHQfL"
      }
    },
    {
      "cell_type": "code",
      "execution_count": null,
      "source": [
        "%%time\r\n",
        "neigh = KNeighborsClassifier(n_neighbors=3)\r\n",
        "neigh.fit(x_train, y_train)\r\n",
        "\r\n",
        "labels = list(neigh.classes_)\r\n",
        "labels.remove(0)\r\n",
        "\r\n",
        "neigh_acc = neigh.score(x_test, y_test)\r\n",
        "print('Accuracy:', neigh_acc)\r\n",
        "\r\n",
        "y_pred = neigh.predict(x_test)\r\n",
        "print(classification_report(y_test, y_pred, labels=labels))\r\n",
        "\r\n",
        "neigh_f1_score = f1_score(y_test, y_pred, average='macro')"
      ],
      "outputs": [
        {
          "output_type": "stream",
          "name": "stdout",
          "text": [
            "Accuracy: 0.9866387215090385\n",
            "              precision    recall  f1-score   support\n",
            "\n",
            "           1       0.94      0.95      0.94       218\n",
            "           2       0.93      0.87      0.90       205\n",
            "\n",
            "   micro avg       0.93      0.91      0.92       423\n",
            "   macro avg       0.93      0.91      0.92       423\n",
            "weighted avg       0.93      0.91      0.92       423\n",
            "\n",
            "CPU times: user 4min 30s, sys: 216 ms, total: 4min 30s\n",
            "Wall time: 4min 29s\n"
          ]
        }
      ],
      "metadata": {
        "id": "7_zNMqsnHRpf",
        "colab": {
          "base_uri": "https://localhost:8080/"
        },
        "outputId": "e33d62ec-1e8a-4f2f-a2b4-fc214dd7ab9f"
      }
    },
    {
      "cell_type": "markdown",
      "source": [
        "## Naive Bayes"
      ],
      "metadata": {
        "id": "Sir8x7ABHhoR"
      }
    },
    {
      "cell_type": "code",
      "execution_count": null,
      "source": [
        "%%time\r\n",
        "bnb = BernoulliNB()\r\n",
        "bnb.fit(x_train, y_train)\r\n",
        "\r\n",
        "labels = list(bnb.classes_)\r\n",
        "labels.remove(0)\r\n",
        "\r\n",
        "bnb_acc = bnb.score(x_test, y_test)\r\n",
        "print('Accuracy:', bnb_acc)\r\n",
        "\r\n",
        "y_pred = bnb.predict(x_test)\r\n",
        "print(classification_report(y_test, y_pred, labels=labels))\r\n",
        "\r\n",
        "bnb_f1_score = f1_score(y_test, y_pred, average='macro')"
      ],
      "outputs": [
        {
          "output_type": "stream",
          "name": "stdout",
          "text": [
            "Accuracy: 0.9753733298401887\n",
            "              precision    recall  f1-score   support\n",
            "\n",
            "           1       0.85      0.91      0.88       218\n",
            "           2       0.90      0.82      0.86       205\n",
            "\n",
            "   micro avg       0.87      0.87      0.87       423\n",
            "   macro avg       0.88      0.87      0.87       423\n",
            "weighted avg       0.88      0.87      0.87       423\n",
            "\n",
            "CPU times: user 489 ms, sys: 190 ms, total: 680 ms\n",
            "Wall time: 449 ms\n"
          ]
        }
      ],
      "metadata": {
        "id": "x9JT--7DHlcF",
        "colab": {
          "base_uri": "https://localhost:8080/"
        },
        "outputId": "17037c22-c45a-457e-edf4-80def5878a51"
      }
    },
    {
      "cell_type": "markdown",
      "source": [
        "## Decision Tree"
      ],
      "metadata": {
        "id": "KF-5aNprH65e"
      }
    },
    {
      "cell_type": "code",
      "execution_count": null,
      "source": [
        "%%time\r\n",
        "clf = DecisionTreeClassifier(criterion=\"entropy\", max_depth=None)\r\n",
        "clf = clf.fit(x_train, y_train)\r\n",
        "\r\n",
        "labels = list(clf.classes_)\r\n",
        "labels.remove(0)\r\n",
        "\r\n",
        "clf_acc = clf.score(x_test, y_test)\r\n",
        "print('Accuracy:', clf_acc)\r\n",
        "\r\n",
        "y_pred = clf.predict(x_test)\r\n",
        "print(classification_report(y_test, y_pred, labels=labels))\r\n",
        "\r\n",
        "clf_f1_score = f1_score(y_test, y_pred, average='macro')"
      ],
      "outputs": [
        {
          "output_type": "stream",
          "name": "stdout",
          "text": [
            "Accuracy: 0.9869007073618025\n",
            "              precision    recall  f1-score   support\n",
            "\n",
            "           1       0.94      0.94      0.94       218\n",
            "           2       0.93      0.87      0.90       205\n",
            "\n",
            "   micro avg       0.93      0.91      0.92       423\n",
            "   macro avg       0.93      0.90      0.92       423\n",
            "weighted avg       0.93      0.91      0.92       423\n",
            "\n",
            "CPU times: user 1.44 s, sys: 65.7 ms, total: 1.51 s\n",
            "Wall time: 1.44 s\n"
          ]
        }
      ],
      "metadata": {
        "id": "WpNMKs6IH8XB",
        "colab": {
          "base_uri": "https://localhost:8080/"
        },
        "outputId": "65243412-6604-4224-c142-ca5b317674cd"
      }
    },
    {
      "cell_type": "markdown",
      "source": [
        "## Random Forest"
      ],
      "metadata": {
        "id": "59TFuy8_1m_l"
      }
    },
    {
      "cell_type": "code",
      "execution_count": null,
      "source": [
        "%%time\r\n",
        "rf_clf = RandomForestClassifier(random_state=2222)\r\n",
        "rf_clf.fit(x_train, y_train)\r\n",
        "\r\n",
        "labels = list(rf_clf.classes_)\r\n",
        "labels.remove(0)\r\n",
        "\r\n",
        "rf_clf_acc = rf_clf.score(x_test, y_test)\r\n",
        "print('Accuracy:', rf_clf_acc)\r\n",
        "\r\n",
        "y_pred = rf_clf.predict(x_test)\r\n",
        "print(classification_report(y_test, y_pred, labels=labels))\r\n",
        "\r\n",
        "rf_clf_f1_score = f1_score(y_test, y_pred, average='macro')"
      ],
      "outputs": [
        {
          "output_type": "stream",
          "name": "stdout",
          "text": [
            "Accuracy: 0.9879486507728583\n",
            "              precision    recall  f1-score   support\n",
            "\n",
            "           1       0.95      0.94      0.94       218\n",
            "           2       0.95      0.87      0.91       205\n",
            "\n",
            "   micro avg       0.95      0.91      0.93       423\n",
            "   macro avg       0.95      0.91      0.93       423\n",
            "weighted avg       0.95      0.91      0.93       423\n",
            "\n",
            "CPU times: user 6 s, sys: 13 ms, total: 6.01 s\n",
            "Wall time: 5.98 s\n"
          ]
        }
      ],
      "metadata": {
        "id": "Z7dIpmJ61sI1",
        "colab": {
          "base_uri": "https://localhost:8080/"
        },
        "outputId": "8e2aaced-0762-4b9a-b823-21976c89adb1"
      }
    },
    {
      "cell_type": "code",
      "execution_count": null,
      "source": [
        "pickle.dump(rf_clf, open('rf.pickle', 'wb'))"
      ],
      "outputs": [],
      "metadata": {
        "id": "paBwufMYVT6a"
      }
    },
    {
      "cell_type": "markdown",
      "source": [
        "## SVM"
      ],
      "metadata": {
        "id": "TtlYhSBAIHe4"
      }
    },
    {
      "cell_type": "code",
      "execution_count": null,
      "source": [
        "%%time\r\n",
        "svm_clf = SVC()\r\n",
        "svm_clf.fit(x_train, y_train)\r\n",
        "\r\n",
        "labels = list(svm_clf.classes_)\r\n",
        "labels.remove(0)\r\n",
        "\r\n",
        "svm_clf_acc = svm_clf.score(x_test, y_test)\r\n",
        "print('Accuracy:', svm_clf_acc)\r\n",
        "\r\n",
        "y_pred = svm_clf.predict(x_test)\r\n",
        "print(classification_report(y_test, y_pred, labels=labels))\r\n",
        "\r\n",
        "svm_clf_f1_score = f1_score(y_test, y_pred, average='macro')"
      ],
      "outputs": [
        {
          "output_type": "stream",
          "name": "stdout",
          "text": [
            "Accuracy: 0.9869007073618025\n",
            "              precision    recall  f1-score   support\n",
            "\n",
            "           1       0.94      0.95      0.95       218\n",
            "           2       0.95      0.86      0.90       205\n",
            "\n",
            "   micro avg       0.94      0.91      0.93       423\n",
            "   macro avg       0.94      0.91      0.92       423\n",
            "weighted avg       0.94      0.91      0.92       423\n",
            "\n",
            "CPU times: user 1min 20s, sys: 58.9 ms, total: 1min 20s\n",
            "Wall time: 1min 19s\n"
          ]
        }
      ],
      "metadata": {
        "id": "KwPi_zJnIIZv",
        "colab": {
          "base_uri": "https://localhost:8080/"
        },
        "outputId": "1ba14ebb-42e2-4f70-d541-1da0531328de"
      }
    },
    {
      "cell_type": "markdown",
      "source": [
        "## ========================================"
      ],
      "metadata": {
        "id": "tCgqS7L9_99g"
      }
    },
    {
      "cell_type": "markdown",
      "source": [
        "## Graph"
      ],
      "metadata": {
        "id": "B25j8ovn_kol"
      }
    },
    {
      "cell_type": "markdown",
      "source": [
        "### Accuracy Score"
      ],
      "metadata": {
        "id": "sTdcxAdBDefm"
      }
    },
    {
      "cell_type": "code",
      "execution_count": null,
      "source": [
        "plt.figure(figsize=(10, 5))\r\n",
        "plt.title('Accuracy Score')\r\n",
        "axes = plt.gca()\r\n",
        "axes.set_ylim([0.97,1.0])\r\n",
        "bar = plt.bar(['KNN', 'NB', 'DTREE', 'RF', 'SVM'], [neigh_acc, bnb_acc, clf_acc, rf_clf_acc, svm_clf_acc])\r\n",
        "bar[1].set_color('orange')\r\n",
        "bar[2].set_color('green')\r\n",
        "bar[3].set_color('red')\r\n",
        "bar[4].set_color('purple')\r\n",
        "plt.show()"
      ],
      "outputs": [
        {
          "output_type": "display_data",
          "data": {
            "text/plain": [
              "<Figure size 720x360 with 1 Axes>"
            ],
            "image/png": "[encoded data removed]"
          },
          "metadata": {
            "tags": [],
            "needs_background": "light"
          }
        }
      ],
      "metadata": {
        "id": "oMcxsqTOaMwS",
        "colab": {
          "base_uri": "https://localhost:8080/",
          "height": 336
        },
        "outputId": "185cec01-91c8-427f-b1da-fabb35bc0cdd"
      }
    },
    {
      "cell_type": "code",
      "execution_count": null,
      "source": [
        "plt.figure(figsize=(10, 5))\r\n",
        "plt.title('Accuracy Score')\r\n",
        "axes = plt.gca()\r\n",
        "axes.set_ylim([0.97,1.0])\r\n",
        "plt.scatter(['KNN', 'NB', 'DTREE', 'RF', 'SVM'], [neigh_acc, bnb_acc, clf_acc, rf_clf_acc, svm_clf_acc])\r\n",
        "plt.show()"
      ],
      "outputs": [
        {
          "output_type": "display_data",
          "data": {
            "text/plain": [
              "<Figure size 720x360 with 1 Axes>"
            ],
            "image/png": "[encoded data removed]"
          },
          "metadata": {
            "tags": [],
            "needs_background": "light"
          }
        }
      ],
      "metadata": {
        "id": "wq-Fn1UBDeCS",
        "colab": {
          "base_uri": "https://localhost:8080/",
          "height": 336
        },
        "outputId": "1150c0e2-a0a5-4e7a-d93e-cecae126f1c2"
      }
    },
    {
      "cell_type": "markdown",
      "source": [
        "### F1 Score"
      ],
      "metadata": {
        "id": "5sSf7lLnDZ13"
      }
    },
    {
      "cell_type": "code",
      "execution_count": null,
      "source": [
        "plt.figure(figsize=(10, 5))\r\n",
        "plt.title('F1 Score')\r\n",
        "axes = plt.gca()\r\n",
        "axes.set_ylim([0.9,1.0])\r\n",
        "bar = plt.bar(['KNN', 'NB', 'DTREE', 'RF', 'SVM'], [neigh_f1_score, bnb_f1_score, clf_f1_score, rf_clf_f1_score, svm_clf_f1_score])\r\n",
        "bar[1].set_color('orange')\r\n",
        "bar[2].set_color('green')\r\n",
        "bar[3].set_color('red')\r\n",
        "bar[4].set_color('purple')\r\n",
        "plt.show()"
      ],
      "outputs": [
        {
          "output_type": "display_data",
          "data": {
            "text/plain": [
              "<Figure size 720x360 with 1 Axes>"
            ],
            "image/png": "[encoded data removed]"
          },
          "metadata": {
            "tags": [],
            "needs_background": "light"
          }
        }
      ],
      "metadata": {
        "colab": {
          "base_uri": "https://localhost:8080/",
          "height": 336
        },
        "id": "p2qBLH77fv0E",
        "outputId": "13ddf436-6ff0-480e-d765-caf6a864c548"
      }
    },
    {
      "cell_type": "code",
      "execution_count": null,
      "source": [
        "plt.figure(figsize=(10, 5))\r\n",
        "plt.title('F1 Score')\r\n",
        "axes = plt.gca()\r\n",
        "axes.set_ylim([0.9,1.0])\r\n",
        "plt.scatter(['KNN', 'NB', 'DTREE', 'RF', 'SVM'], [neigh_f1_score, bnb_f1_score, clf_f1_score, rf_clf_f1_score, svm_clf_f1_score])\r\n",
        "plt.show()"
      ],
      "outputs": [
        {
          "output_type": "display_data",
          "data": {
            "text/plain": [
              "<Figure size 720x360 with 1 Axes>"
            ],
            "image/png": "[encoded data removed]"
          },
          "metadata": {
            "tags": [],
            "needs_background": "light"
          }
        }
      ],
      "metadata": {
        "id": "leucs0Ka8NKZ",
        "colab": {
          "base_uri": "https://localhost:8080/",
          "height": 336
        },
        "outputId": "1829ef2a-be12-4a3b-d78a-33d2780a3a43"
      }
    }
  ]
}