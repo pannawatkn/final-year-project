{
  "nbformat": 4,
  "nbformat_minor": 2,
  "metadata": {
    "colab": {
      "name": "[2] Bi-GRU Sentiment Analysis.ipynb",
      "provenance": [],
      "collapsed_sections": [
        "5KpTpbwxS75n"
      ],
      "toc_visible": true
    },
    "kernelspec": {
      "name": "python3",
      "display_name": "Python 3"
    },
    "accelerator": "GPU"
  },
  "cells": [
    {
      "cell_type": "markdown",
      "source": [
        "# Setup"
      ],
      "metadata": {
        "id": "6XQtQ4nuTQQQ"
      }
    },
    {
      "cell_type": "code",
      "execution_count": null,
      "source": [
        "# Tweepy\r\n",
        "import tweepy\r\n",
        "\r\n",
        "# DataFrame\r\n",
        "import pandas as pd\r\n",
        "\r\n",
        "# Matplot\r\n",
        "from matplotlib import pyplot as plt\r\n",
        "\r\n",
        "# Utility\r\n",
        "import numpy as np\r\n",
        "from numpy import array       \r\n",
        "from numpy import asarray\r\n",
        "from numpy import zeros\r\n",
        "import math\r\n",
        "import re\r\n",
        "import string\r\n",
        "import pickle\r\n",
        "import random\r\n",
        "import csv\r\n",
        "\r\n",
        "# Scikit-learn\r\n",
        "from sklearn.model_selection import train_test_split\r\n",
        "from sklearn.metrics import classification_report, accuracy_score\r\n",
        "\r\n",
        "# nltk\r\n",
        "import nltk\r\n",
        "from nltk.corpus import stopwords\r\n",
        "from nltk.tokenize import TweetTokenizer\r\n",
        "\r\n",
        "# Keras\r\n",
        "from keras.models import load_model\r\n",
        "from keras.preprocessing.sequence import pad_sequences\r\n",
        "from keras.models import Sequential\r\n",
        "from keras.layers import Dense, GRU, Bidirectional, Dropout\r\n",
        "from keras.layers.embeddings import Embedding\r\n",
        "\r\n",
        "nltk.download('stopwords')\r\n",
        "nltk.download('punkt')"
      ],
      "outputs": [
        {
          "output_type": "stream",
          "name": "stdout",
          "text": [
            "[nltk_data] Downloading package stopwords to /root/nltk_data...\n",
            "[nltk_data]   Unzipping corpora/stopwords.zip.\n",
            "[nltk_data] Downloading package punkt to /root/nltk_data...\n",
            "[nltk_data]   Unzipping tokenizers/punkt.zip.\n"
          ]
        },
        {
          "output_type": "execute_result",
          "data": {
            "text/plain": [
              "True"
            ]
          },
          "metadata": {
            "tags": []
          },
          "execution_count": 2
        }
      ],
      "metadata": {
        "id": "nURE2brFRP-Q",
        "colab": {
          "base_uri": "https://localhost:8080/"
        },
        "outputId": "b1c5cd18-2936-4248-c121-289dd2889cb7"
      }
    },
    {
      "cell_type": "markdown",
      "source": [
        "# Pre-processing training data"
      ],
      "metadata": {
        "id": "7nFeneLZTRoT"
      }
    },
    {
      "cell_type": "code",
      "execution_count": null,
      "source": [
        "col = ['target', 'text']\r\n",
        "train_df = pd.read_csv('training.1600000.processed.noemoticon.csv', encoding='ISO-8859-1', names=col, usecols=[0,5])\r\n",
        "\r\n",
        "def clean_text(sentence):\r\n",
        "    stop_words = stopwords.words('english')\r\n",
        "    tokenizer = TweetTokenizer()\r\n",
        "    tweet_tokens = tokenizer.tokenize(str(sentence))\r\n",
        "\r\n",
        "    final_token = []\r\n",
        "    for token in tweet_tokens:\r\n",
        "        token = re.sub('http[s]?://(?:[a-zA-Z]|[0-9]|[$-_@.&+#]|[!*\\(\\),]|'\\\r\n",
        "                        '(?:%[0-9a-fA-F][0-9a-fA-F]))+','', token)\r\n",
        "        token = re.sub('RT','', token)\r\n",
        "        token = re.sub('(@[A-Za-z0-9_]+)','', token)\r\n",
        "        token = re.sub('(#[A-Za-z0-9_]+)','', token)\r\n",
        " \r\n",
        "        token = re.sub('“','', token)\r\n",
        "        token = re.sub('”','', token)\r\n",
        "        token = re.sub('’','', token)\r\n",
        "        token = re.sub('—','', token)\r\n",
        " \r\n",
        "        if len(token) > 0 and token not in string.punctuation and token.lower() not in stop_words:\r\n",
        "            final_token.append(token.lower())\r\n",
        "            \r\n",
        "    return ' '.join(final_token)\r\n",
        "\r\n",
        "decode = {0: \"NEGATIVE\", 4: \"POSITIVE\"}\r\n",
        "def decode_sentiment(label):\r\n",
        "    return decode[int(label)]\r\n",
        "\r\n",
        "def add_end_token(sentence):\r\n",
        "  sent = sentence + ' <end>'\r\n",
        "  return sent\r\n",
        "\r\n",
        "# cleaning\r\n",
        "train_df.text = train_df.text.apply(lambda x: clean_text(x))\r\n",
        "train_df.text = train_df.text.apply(lambda x: add_end_token(x))\r\n",
        "train_df.target = train_df.target.apply(lambda x: decode_sentiment(x))\r\n",
        "\r\n",
        "# dataframe to list\r\n",
        "train_list = train_df['text'].values.tolist()\r\n",
        "target_list = train_df['target'].values.tolist()\r\n",
        "\r\n",
        "# tokenize\r\n",
        "tokenizer = TweetTokenizer()\r\n",
        "train_list = [tokenizer.tokenize(sent) for sent in train_list]"
      ],
      "outputs": [],
      "metadata": {
        "id": "NPIbr6_rdfcc"
      }
    },
    {
      "cell_type": "markdown",
      "source": [
        "# Word to index - Index to word"
      ],
      "metadata": {
        "id": "5KpTpbwxS75n"
      }
    },
    {
      "cell_type": "code",
      "execution_count": null,
      "source": [
        "words = set()\r\n",
        "for sent in train_list:\r\n",
        "  for word in sent:\r\n",
        "    words.add(word)\r\n",
        " \r\n",
        "targets = set()\r\n",
        "for t in target_list:\r\n",
        "  targets.add(t)"
      ],
      "outputs": [],
      "metadata": {
        "id": "LDMEBXMqCZfg"
      }
    },
    {
      "cell_type": "code",
      "execution_count": null,
      "source": [
        "print('Vocab:', len(words))\r\n",
        "print('Target:', len(targets))"
      ],
      "outputs": [
        {
          "output_type": "stream",
          "name": "stdout",
          "text": [
            "Vocab: 332263\n",
            "Target: 2\n"
          ]
        }
      ],
      "metadata": {
        "id": "Kbnp7aztCsE8",
        "colab": {
          "base_uri": "https://localhost:8080/",
          "height": 51
        },
        "outputId": "d9254adb-d709-4be2-f759-3b922d92b58a"
      }
    },
    {
      "cell_type": "code",
      "execution_count": null,
      "source": [
        "word2idx = {w: i + 1 for i, w in enumerate(words)}\r\n",
        "word2idx[\"UNK\"] = 0\r\n",
        "idx2word = {i: w for w, i in word2idx.items()}\r\n",
        "\r\n",
        "target2idx = {t: i for i, t in enumerate(targets)}\r\n",
        "idx2target = {i: w for w, i in target2idx.items()}  "
      ],
      "outputs": [],
      "metadata": {
        "id": "ilE5iZlcJiiL"
      }
    },
    {
      "cell_type": "code",
      "execution_count": null,
      "source": [
        "print('sample (train_list)', train_list[0])\r\n",
        "print('sample (word to index)', {w : word2idx[w] for w in train_list[0]})"
      ],
      "outputs": [
        {
          "output_type": "stream",
          "name": "stdout",
          "text": [
            "sample (train_list) ['awww', \"that's\", 'bummer', 'shoulda', 'got', 'david', 'carr', 'third', 'day', ';d', '<end>']\n",
            "sample (word to index) {'awww': 60866, \"that's\": 123392, 'bummer': 314991, 'shoulda': 20369, 'got': 260506, 'david': 298616, 'carr': 108376, 'third': 136789, 'day': 92212, ';d': 217622, '<end>': 279645}\n"
          ]
        }
      ],
      "metadata": {
        "id": "nl1Rf7LKKWXs",
        "colab": {
          "base_uri": "https://localhost:8080/",
          "height": 71
        },
        "outputId": "8c9aa595-9724-49d6-8c6e-ff7dc19e82a1"
      }
    },
    {
      "cell_type": "code",
      "execution_count": null,
      "source": [
        "# Save\r\n",
        "with open('word2idx.pickle', 'wb') as handle:\r\n",
        "    pickle.dump(word2idx, handle, protocol=pickle.HIGHEST_PROTOCOL)\r\n",
        "with open('idx2word.pickle', 'wb') as handle:\r\n",
        "    pickle.dump(idx2word, handle, protocol=pickle.HIGHEST_PROTOCOL)\r\n",
        "with open('target2idx.pickle', 'wb') as handle:\r\n",
        "    pickle.dump(target2idx, handle, protocol=pickle.HIGHEST_PROTOCOL)\r\n",
        "with open('idx2target.pickle', 'wb') as handle:\r\n",
        "    pickle.dump(idx2target, handle, protocol=pickle.HIGHEST_PROTOCOL)"
      ],
      "outputs": [],
      "metadata": {
        "id": "ajZpivZ-SRIP"
      }
    },
    {
      "cell_type": "markdown",
      "source": [
        "# Training"
      ],
      "metadata": {
        "id": "7xqPD_ETTtR6"
      }
    },
    {
      "cell_type": "code",
      "execution_count": null,
      "source": [
        "# Load word2idx tag2idx ...\r\n",
        "with open('word2idx.pickle', 'rb') as handle:\r\n",
        "    word2idx = pickle.load(handle)\r\n",
        "with open('idx2word.pickle', 'rb') as handle:\r\n",
        "    idx2word = pickle.load(handle)\r\n",
        "with open('target2idx.pickle', 'rb') as handle:\r\n",
        "    target2idx = pickle.load(handle)\r\n",
        "with open('idx2target.pickle', 'rb') as handle:\r\n",
        "    idx2target = pickle.load(handle)\r\n",
        "\r\n",
        "words = set()\r\n",
        "for sent in train_list:\r\n",
        "  for word in sent:\r\n",
        "    words.add(word)\r\n",
        " \r\n",
        "targets = set()\r\n",
        "for t in target_list:\r\n",
        "  targets.add(t)\r\n",
        "\r\n",
        "max_len_sentence = 100\r\n",
        "\r\n",
        "X = [[word2idx[word] for word in sent] for sent in train_list]\r\n",
        "X = pad_sequences(maxlen=max_len_sentence, sequences=X, value=word2idx[\"UNK\"], padding='post', truncating='post')\r\n",
        "y = [target2idx[t] for t in target_list]\r\n",
        "y = array(y).reshape(-1,1)\r\n",
        "\r\n",
        "# 70% training data 30% testing data\r\n",
        "X_train, X_test, y_train, y_test = train_test_split(X, y, test_size=0.3, random_state=5555)"
      ],
      "outputs": [],
      "metadata": {
        "id": "9tyeHlqKTy2T"
      }
    },
    {
      "cell_type": "markdown",
      "source": [
        "## Covid Word Embedding\r\n",
        "\r\n",
        "https://www.kaggle.com/davidmezzetti/cord19-fasttext-vectors"
      ],
      "metadata": {}
    },
    {
      "cell_type": "code",
      "execution_count": null,
      "source": [
        "embeddings_dictionary = dict()\r\n",
        "\r\n",
        "fast_file = open('cord19-300d.txt', encoding=\"utf8\")\r\n",
        "for line in fast_file:\r\n",
        "    records = line.split()\r\n",
        "    word = records[0]\r\n",
        "    vector_dimensions = asarray(records[1:], dtype='float32')\r\n",
        "    embeddings_dictionary [word] = vector_dimensions\r\n",
        "fast_file.close()\r\n",
        " \r\n",
        "embedding_matrix = zeros((len(words) + 1, 300))\r\n",
        "for word, index in word2idx.items():\r\n",
        "    embedding_vector = embeddings_dictionary.get(word)\r\n",
        "    if embedding_vector is not None:\r\n",
        "        embedding_matrix[index] = embedding_vector"
      ],
      "outputs": [],
      "metadata": {
        "id": "D3o1hDuwMdBy"
      }
    },
    {
      "cell_type": "code",
      "execution_count": null,
      "source": [
        "def get_bidirectional_gru():\r\n",
        "  model = Sequential()\r\n",
        "\r\n",
        "  model.add(Embedding(len(words)+1, 300, weights=[embedding_matrix], input_length=max_len_sentence, trainable=False))\r\n",
        "  model.add(Dropout(0.5))\r\n",
        "  model.add(Bidirectional(GRU(128)))\r\n",
        "  model.add(Dense(64, activation='relu'))\r\n",
        "  model.add(Dense(1, activation='sigmoid'))\r\n",
        " \r\n",
        "  model.compile(optimizer='adam', loss='binary_crossentropy', metrics=['acc'])\r\n",
        "  model.summary()\r\n",
        " \r\n",
        "  return model\r\n",
        "\r\n",
        "model = get_bidirectional_gru()"
      ],
      "outputs": [
        {
          "output_type": "stream",
          "name": "stdout",
          "text": [
            "Model: \"sequential\"\n",
            "_________________________________________________________________\n",
            "Layer (type)                 Output Shape              Param #   \n",
            "=================================================================\n",
            "embedding (Embedding)        (None, 100, 300)          99679200  \n",
            "_________________________________________________________________\n",
            "dropout (Dropout)            (None, 100, 300)          0         \n",
            "_________________________________________________________________\n",
            "bidirectional (Bidirectional (None, 256)               330240    \n",
            "_________________________________________________________________\n",
            "dense (Dense)                (None, 64)                16448     \n",
            "_________________________________________________________________\n",
            "dense_1 (Dense)              (None, 1)                 65        \n",
            "=================================================================\n",
            "Total params: 100,025,953\n",
            "Trainable params: 346,753\n",
            "Non-trainable params: 99,679,200\n",
            "_________________________________________________________________\n"
          ]
        }
      ],
      "metadata": {
        "id": "rd6b-Vy9Mrif",
        "colab": {
          "base_uri": "https://localhost:8080/",
          "height": 323
        },
        "outputId": "10db7fd2-d6aa-4572-b00d-2af3bf20487c"
      }
    },
    {
      "cell_type": "code",
      "execution_count": null,
      "source": [
        "history = model.fit(X_train, y_train, epochs=10, validation_split=0.1, verbose=1, batch_size=1024)"
      ],
      "outputs": [
        {
          "output_type": "stream",
          "name": "stdout",
          "text": [
            "Epoch 1/10\n",
            "985/985 [==============================] - 115s 117ms/step - loss: 0.5553 - acc: 0.7090 - val_loss: 0.5014 - val_acc: 0.7528\n",
            "Epoch 2/10\n",
            "985/985 [==============================] - 118s 119ms/step - loss: 0.5165 - acc: 0.7404 - val_loss: 0.4893 - val_acc: 0.7620\n",
            "Epoch 3/10\n",
            "985/985 [==============================] - 119s 120ms/step - loss: 0.5067 - acc: 0.7478 - val_loss: 0.4809 - val_acc: 0.7674\n",
            "Epoch 4/10\n",
            "985/985 [==============================] - 120s 122ms/step - loss: 0.4996 - acc: 0.7531 - val_loss: 0.4776 - val_acc: 0.7696\n",
            "Epoch 5/10\n",
            "985/985 [==============================] - 120s 122ms/step - loss: 0.4952 - acc: 0.7559 - val_loss: 0.4817 - val_acc: 0.7655\n",
            "Epoch 6/10\n",
            "985/985 [==============================] - 120s 122ms/step - loss: 0.4911 - acc: 0.7585 - val_loss: 0.4713 - val_acc: 0.7737\n",
            "Epoch 7/10\n",
            "985/985 [==============================] - 120s 121ms/step - loss: 0.4886 - acc: 0.7602 - val_loss: 0.4729 - val_acc: 0.7711\n",
            "Epoch 8/10\n",
            "985/985 [==============================] - 119s 121ms/step - loss: 0.4864 - acc: 0.7617 - val_loss: 0.4665 - val_acc: 0.7760\n",
            "Epoch 9/10\n",
            "985/985 [==============================] - 118s 120ms/step - loss: 0.4841 - acc: 0.7634 - val_loss: 0.4662 - val_acc: 0.7766\n",
            "Epoch 10/10\n",
            "985/985 [==============================] - 118s 120ms/step - loss: 0.4816 - acc: 0.7650 - val_loss: 0.4640 - val_acc: 0.7776\n"
          ]
        }
      ],
      "metadata": {
        "id": "gfp_ZymrOuLh",
        "colab": {
          "base_uri": "https://localhost:8080/",
          "height": 357
        },
        "outputId": "96e8dba4-625c-4014-d31d-a5ab59b40b4d"
      }
    },
    {
      "cell_type": "markdown",
      "source": [
        "### Model graph"
      ],
      "metadata": {
        "id": "M5yYcI7Go06S"
      }
    },
    {
      "cell_type": "markdown",
      "source": [
        "Loss graph"
      ],
      "metadata": {
        "id": "t500tOmppFgW"
      }
    },
    {
      "cell_type": "code",
      "execution_count": null,
      "source": [
        "plt.plot(history.history['loss'])\r\n",
        "plt.plot(history.history['val_loss'])\r\n",
        "plt.title('model loss')\r\n",
        "plt.ylabel('loss')\r\n",
        "plt.xlabel('epoch')\r\n",
        "plt.legend(['train', 'val'], loc='upper left')\r\n",
        "plt.show()"
      ],
      "outputs": [
        {
          "data": {
            "text/plain": [
              "<Figure size 432x288 with 1 Axes>"
            ],
            "image/png": "[encoded data removed]"
          },
          "metadata": {},
          "output_type": "display_data"
        }
      ],
      "metadata": {
        "id": "5PjTMNU2o6f8",
        "colab": {
          "base_uri": "https://localhost:8080/",
          "height": 295
        },
        "outputId": "16cf5551-48af-4289-a0cd-a29fd7cf39d6"
      }
    },
    {
      "cell_type": "markdown",
      "source": [
        "Model accuracy graph"
      ],
      "metadata": {
        "id": "DIbDJU5tpHOY"
      }
    },
    {
      "cell_type": "code",
      "execution_count": null,
      "source": [
        "plt.plot(history.history['acc'])\r\n",
        "plt.plot(history.history['val_acc'])\r\n",
        "plt.title('model accuracy')\r\n",
        "plt.ylabel('accuracy')\r\n",
        "plt.xlabel('epoch')\r\n",
        "plt.legend(['train', 'val'], loc='upper left')\r\n",
        "plt.show()"
      ],
      "outputs": [
        {
          "data": {
            "text/plain": [
              "<Figure size 432x288 with 1 Axes>"
            ],
            "image/png": "[encoded data removed]"
          },
          "metadata": {},
          "output_type": "display_data"
        }
      ],
      "metadata": {
        "id": "i3qALStRpI44",
        "colab": {
          "base_uri": "https://localhost:8080/",
          "height": 295
        },
        "outputId": "bf68d546-8e77-4b79-b8cb-68ed3659d2bc"
      }
    },
    {
      "cell_type": "code",
      "execution_count": null,
      "source": [
        "def decode_sentiment(score):\r\n",
        "  return 1 if score > 0.5 else 0\r\n",
        "\r\n",
        "y_pred = []\r\n",
        "scores = model.predict(X_test)\r\n",
        "y_pred = [decode_sentiment(score) for score in scores]"
      ],
      "outputs": [],
      "metadata": {
        "id": "MgHECofFsRYy"
      }
    },
    {
      "cell_type": "code",
      "execution_count": null,
      "source": [
        "covid_emb_report = classification_report(y_test, y_pred, target_names=['POSITIVE','NEGATIVE'])\r\n",
        "covid_emb_acc = accuracy_score(y_test, y_pred)\r\n",
        "print(covid_emb_report)\r\n",
        "covid_emb_report = classification_report(y_test, y_pred, target_names=['POSITIVE','NEGATIVE'], output_dict=True)\r\n",
        "print('Accuracy = %.3f' %covid_emb_acc)"
      ],
      "outputs": [
        {
          "output_type": "stream",
          "name": "stdout",
          "text": [
            "              precision    recall  f1-score   support\n",
            "\n",
            "    POSITIVE       0.77      0.78      0.78    240226\n",
            "    NEGATIVE       0.78      0.77      0.77    239774\n",
            "\n",
            "    accuracy                           0.78    480000\n",
            "   macro avg       0.78      0.78      0.78    480000\n",
            "weighted avg       0.78      0.78      0.78    480000\n",
            "\n",
            "Accuracy = 0.776\n"
          ]
        }
      ],
      "metadata": {
        "id": "W9ijtDgs2W0M",
        "colab": {
          "base_uri": "https://localhost:8080/"
        },
        "outputId": "6e1121c2-176f-4bea-9233-f2c3e3d9890b"
      }
    },
    {
      "cell_type": "markdown",
      "source": [
        "## English Word Embedding\n",
        "https://fasttext.cc/docs/en/crawl-vectors.html"
      ],
      "metadata": {
        "id": "TXNB9SclIJIS"
      }
    },
    {
      "cell_type": "code",
      "execution_count": null,
      "source": [
        "embeddings_dictionary = dict()\r\n",
        "\r\n",
        "fast_file = open('cc.en.300.vec', encoding=\"utf8\")\r\n",
        "for line in fast_file:\r\n",
        "    records = line.split()\r\n",
        "    word = records[0]\r\n",
        "    vector_dimensions = asarray(records[1:], dtype='float32')\r\n",
        "    embeddings_dictionary [word] = vector_dimensions\r\n",
        "fast_file.close()\r\n",
        " \r\n",
        "embedding_matrix = zeros((len(words) + 1, 300))\r\n",
        "for word, index in word2idx.items():\r\n",
        "    embedding_vector = embeddings_dictionary.get(word)\r\n",
        "    if embedding_vector is not None:\r\n",
        "        embedding_matrix[index] = embedding_vector"
      ],
      "outputs": [],
      "metadata": {
        "id": "Bk3jmTJiIXmu"
      }
    },
    {
      "cell_type": "code",
      "execution_count": null,
      "source": [
        "def get_bidirectional_gru():\r\n",
        "  model = Sequential()\r\n",
        "\r\n",
        "  model.add(Embedding(len(words)+1, 300, weights=[embedding_matrix], input_length=max_len_sentence, trainable=False))\r\n",
        "  model.add(Dropout(0.5))\r\n",
        "  model.add(Bidirectional(GRU(128)))\r\n",
        "  model.add(Dense(64, activation='relu'))\r\n",
        "  model.add(Dense(1, activation='sigmoid'))\r\n",
        " \r\n",
        "  model.compile(optimizer='adam', loss='binary_crossentropy', metrics=['acc'])\r\n",
        "  model.summary()\r\n",
        " \r\n",
        "  return model\r\n",
        "\r\n",
        "model = get_bidirectional_gru()"
      ],
      "outputs": [
        {
          "output_type": "stream",
          "name": "stdout",
          "text": [
            "Model: \"sequential\"\n",
            "_________________________________________________________________\n",
            "Layer (type)                 Output Shape              Param #   \n",
            "=================================================================\n",
            "embedding (Embedding)        (None, 100, 300)          99679200  \n",
            "_________________________________________________________________\n",
            "dropout (Dropout)            (None, 100, 300)          0         \n",
            "_________________________________________________________________\n",
            "bidirectional (Bidirectional (None, 256)               330240    \n",
            "_________________________________________________________________\n",
            "dense (Dense)                (None, 64)                16448     \n",
            "_________________________________________________________________\n",
            "dense_1 (Dense)              (None, 1)                 65        \n",
            "=================================================================\n",
            "Total params: 100,025,953\n",
            "Trainable params: 346,753\n",
            "Non-trainable params: 99,679,200\n",
            "_________________________________________________________________\n"
          ]
        }
      ],
      "metadata": {
        "id": "LqPMca4BIa79",
        "colab": {
          "base_uri": "https://localhost:8080/",
          "height": 323
        },
        "outputId": "6d7a85bf-de69-414a-e6f2-25f9440293bf"
      }
    },
    {
      "cell_type": "code",
      "execution_count": null,
      "source": [
        "history = model.fit(X_train, y_train, epochs=10, validation_split=0.1, verbose=1, batch_size=1024)"
      ],
      "outputs": [
        {
          "output_type": "stream",
          "name": "stdout",
          "text": [
            "Epoch 1/10\n",
            "985/985 [==============================] - 125s 126ms/step - loss: 0.5406 - acc: 0.7225 - val_loss: 0.4896 - val_acc: 0.7653\n",
            "Epoch 2/10\n",
            "985/985 [==============================] - 126s 128ms/step - loss: 0.5026 - acc: 0.7511 - val_loss: 0.4719 - val_acc: 0.7735\n",
            "Epoch 3/10\n",
            "985/985 [==============================] - 126s 128ms/step - loss: 0.4904 - acc: 0.7593 - val_loss: 0.4639 - val_acc: 0.7775\n",
            "Epoch 4/10\n",
            "985/985 [==============================] - 126s 128ms/step - loss: 0.4826 - acc: 0.7646 - val_loss: 0.4593 - val_acc: 0.7813\n",
            "Epoch 5/10\n",
            "985/985 [==============================] - 126s 128ms/step - loss: 0.4765 - acc: 0.7683 - val_loss: 0.4529 - val_acc: 0.7853\n",
            "Epoch 6/10\n",
            "985/985 [==============================] - 126s 128ms/step - loss: 0.4710 - acc: 0.7719 - val_loss: 0.4526 - val_acc: 0.7841\n",
            "Epoch 7/10\n",
            "985/985 [==============================] - 126s 128ms/step - loss: 0.4671 - acc: 0.7749 - val_loss: 0.4469 - val_acc: 0.7900\n",
            "Epoch 8/10\n",
            "985/985 [==============================] - 126s 128ms/step - loss: 0.4635 - acc: 0.7769 - val_loss: 0.4455 - val_acc: 0.7900\n",
            "Epoch 9/10\n",
            "985/985 [==============================] - 126s 128ms/step - loss: 0.4600 - acc: 0.7789 - val_loss: 0.4436 - val_acc: 0.7907\n",
            "Epoch 10/10\n",
            "985/985 [==============================] - 126s 128ms/step - loss: 0.4576 - acc: 0.7805 - val_loss: 0.4425 - val_acc: 0.7929\n"
          ]
        }
      ],
      "metadata": {
        "id": "0ORuy4_-027f",
        "colab": {
          "base_uri": "https://localhost:8080/",
          "height": 357
        },
        "outputId": "2527a142-342f-4a64-a1d9-83e9e03123db"
      }
    },
    {
      "cell_type": "code",
      "execution_count": null,
      "source": [
        "model.save('bi_gru_model_10_epoch_general_word_embedding.h5')"
      ],
      "outputs": [],
      "metadata": {
        "id": "wlPiVtgL07-L"
      }
    },
    {
      "cell_type": "markdown",
      "source": [
        "### Model graph"
      ],
      "metadata": {
        "id": "7iXR0eDz1DDr"
      }
    },
    {
      "cell_type": "markdown",
      "source": [
        "Loss graph"
      ],
      "metadata": {
        "id": "i4zDlJU91DDs"
      }
    },
    {
      "cell_type": "code",
      "execution_count": null,
      "source": [
        "plt.plot(history.history['loss'])\r\n",
        "plt.plot(history.history['val_loss'])\r\n",
        "plt.title('model loss')\r\n",
        "plt.ylabel('loss')\r\n",
        "plt.xlabel('epoch')\r\n",
        "plt.legend(['train', 'val'], loc='upper left')\r\n",
        "plt.show()"
      ],
      "outputs": [
        {
          "output_type": "display_data",
          "data": {
            "text/plain": [
              "<Figure size 432x288 with 1 Axes>"
            ],
            "image/png": "[encoded data removed]"
          },
          "metadata": {
            "tags": [],
            "needs_background": "light"
          }
        }
      ],
      "metadata": {
        "id": "HLz39aeM1DDs",
        "colab": {
          "base_uri": "https://localhost:8080/",
          "height": 295
        },
        "outputId": "58538231-19d3-4b09-e9c2-37ec640baaa7"
      }
    },
    {
      "cell_type": "markdown",
      "source": [
        "Model accuracy graph"
      ],
      "metadata": {
        "id": "QPhXgXu71DDv"
      }
    },
    {
      "cell_type": "code",
      "execution_count": null,
      "source": [
        "plt.plot(history.history['acc'])\r\n",
        "plt.plot(history.history['val_acc'])\r\n",
        "plt.title('model accuracy')\r\n",
        "plt.ylabel('accuracy')\r\n",
        "plt.xlabel('epoch')\r\n",
        "plt.legend(['train', 'val'], loc='upper left')\r\n",
        "plt.show()"
      ],
      "outputs": [
        {
          "output_type": "display_data",
          "data": {
            "text/plain": [
              "<Figure size 432x288 with 1 Axes>"
            ],
            "image/png": "[encoded data removed]"
          },
          "metadata": {
            "tags": [],
            "needs_background": "light"
          }
        }
      ],
      "metadata": {
        "id": "LmQ0OqtB1DDv",
        "colab": {
          "base_uri": "https://localhost:8080/",
          "height": 295
        },
        "outputId": "03636234-f982-4008-a0d3-86225a100015"
      }
    },
    {
      "cell_type": "code",
      "execution_count": null,
      "source": [
        "model = load_model('bi_gru_model_10_epoch_general_word_embedding.h5')"
      ],
      "outputs": [],
      "metadata": {
        "id": "kW4NBCZF8LrX"
      }
    },
    {
      "cell_type": "code",
      "execution_count": null,
      "source": [
        "def decode_sentiment(score):\r\n",
        "  return 1 if score > 0.5 else 0\r\n",
        "\r\n",
        "y_pred = []\r\n",
        "scores = model.predict(X_test)\r\n",
        "y_pred = [decode_sentiment(score) for score in scores]"
      ],
      "outputs": [],
      "metadata": {
        "id": "-zOIuVF81DD0"
      }
    },
    {
      "cell_type": "code",
      "execution_count": null,
      "source": [
        "english_emb_report = classification_report(y_test, y_pred, target_names=['POSITIVE','NEGATIVE'])\r\n",
        "english_emb_acc = accuracy_score(y_test, y_pred)\r\n",
        "print(english_emb_report)\r\n",
        "english_emb_report = classification_report(y_test, y_pred, target_names=['POSITIVE','NEGATIVE'], output_dict=True)\r\n",
        "print('Accuracy = %.3f' %english_emb_acc)"
      ],
      "outputs": [
        {
          "output_type": "stream",
          "name": "stdout",
          "text": [
            "              precision    recall  f1-score   support\n",
            "\n",
            "    POSITIVE       0.80      0.77      0.79    240226\n",
            "    NEGATIVE       0.78      0.81      0.79    239774\n",
            "\n",
            "    accuracy                           0.79    480000\n",
            "   macro avg       0.79      0.79      0.79    480000\n",
            "weighted avg       0.79      0.79      0.79    480000\n",
            "\n",
            "Accuracy = 0.791\n"
          ]
        }
      ],
      "metadata": {
        "colab": {
          "base_uri": "https://localhost:8080/"
        },
        "id": "pr5xs8yz8yb-",
        "outputId": "bcc27a22-c302-4917-c6f6-916be205c7a8"
      }
    },
    {
      "cell_type": "markdown",
      "source": [
        "## Comparison graph"
      ],
      "metadata": {
        "id": "AtVBE4o487Li"
      }
    },
    {
      "cell_type": "code",
      "execution_count": null,
      "source": [
        "plt.figure(figsize=(10, 5))\r\n",
        "plt.title('Accuracy')\r\n",
        "axes = plt.gca()\r\n",
        "axes.set_ylim([0.55,1.0])\r\n",
        "bar = plt.bar(['Covid_Word_Embed', 'English_Word_Embed'], [covid_emb_acc, english_emb_acc])\r\n",
        "bar[1].set_color('orange')\r\n",
        "plt.show()"
      ],
      "outputs": [
        {
          "data": {
            "text/plain": [
              "<Figure size 720x360 with 1 Axes>"
            ],
            "image/png": "[encoded data removed]"
          },
          "metadata": {},
          "output_type": "display_data"
        }
      ],
      "metadata": {
        "colab": {
          "base_uri": "https://localhost:8080/"
        },
        "id": "8GGKPPTX8_pO",
        "outputId": "77ca2f4c-bcc3-4daf-eed2-5388f34aa47f"
      }
    },
    {
      "cell_type": "code",
      "execution_count": null,
      "source": [
        "plt.figure(figsize=(10, 5))\r\n",
        "plt.title('F1 Score')\r\n",
        "axes = plt.gca()\r\n",
        "axes.set_ylim([0.55,1.0])\r\n",
        "bar = plt.bar(['Covid_Word_Embed', 'English_Word_Embed'], [covid_emb_report['macro avg']['f1-score'], english_emb_report['macro avg']['f1-score']])\r\n",
        "bar[1].set_color('orange')\r\n",
        "plt.show()"
      ],
      "outputs": [
        {
          "data": {
            "text/plain": [
              "<Figure size 720x360 with 1 Axes>"
            ],
            "image/png": "[encoded data removed]"
          },
          "metadata": {},
          "output_type": "display_data"
        }
      ],
      "metadata": {
        "colab": {
          "base_uri": "https://localhost:8080/",
          "height": 337
        },
        "id": "dCvHtFYs9zVN",
        "outputId": "8e4d2bce-30f5-4bfa-8630-3cb514f47493"
      }
    }
  ]
}